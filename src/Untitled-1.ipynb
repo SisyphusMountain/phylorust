{
 "cells": [
  {
   "cell_type": "code",
   "execution_count": 101,
   "metadata": {},
   "outputs": [],
   "source": [
    "import ete3\n",
    "import pandas as pd\n",
    "import numpy as np"
   ]
  },
  {
   "cell_type": "code",
   "execution_count": 20,
   "metadata": {},
   "outputs": [],
   "source": [
    "new_tree = ete3.Tree(\"((D,F)E,(B,H)C)G;\",format=8)"
   ]
  },
  {
   "cell_type": "code",
   "execution_count": 21,
   "metadata": {},
   "outputs": [],
   "source": [
    "def attribute_indexes(tree):\n",
    "    # First pass : attribute indexes to leaves\n",
    "    index = 0\n",
    "    for node in tree.traverse(\"postorder\"):\n",
    "        if node.is_leaf():\n",
    "            node.add_features(index=index)\n",
    "            index += 1\n",
    "    # Second pass : attribute indexes to internal nodes\n",
    "    for node in tree.traverse(\"postorder\"):\n",
    "        if not node.is_leaf():\n",
    "            node.add_features(index=index)\n",
    "            index += 1\n",
    "    return tree\n"
   ]
  },
  {
   "cell_type": "code",
   "execution_count": 22,
   "metadata": {},
   "outputs": [],
   "source": [
    "new_tree = attribute_indexes(new_tree)"
   ]
  },
  {
   "cell_type": "code",
   "execution_count": 53,
   "metadata": {},
   "outputs": [],
   "source": [
    "list_names = [node.name for node in new_tree.traverse(\"postorder\")]\n",
    "list_depths = [node.get_distance(new_tree) for node in new_tree.traverse(\"postorder\")]\n",
    "list_lengths = [node.dist for node in new_tree.traverse(\"postorder\")]\n",
    "list_parent_depths = [0 if node.is_root() else node.up.get_distance(new_tree) for node in new_tree.traverse(\"postorder\")]\n",
    "list_children = [[child.name for child in node.children] for node in new_tree.traverse(\"postorder\")]\n",
    "list_indexes = [node.index for node in new_tree.traverse(\"postorder\")]\n",
    "list_children_indexes = [[child.index for child in node.children] for node in new_tree.traverse(\"postorder\")]"
   ]
  },
  {
   "cell_type": "code",
   "execution_count": 54,
   "metadata": {},
   "outputs": [],
   "source": [
    "data_dictionary = {\"name\":list_names, \"depth\":list_depths, \"parent_depth\":list_parent_depths, \"dist\":list_lengths, \"children\":list_children, \"index\":list_indexes, \"children_indexes\":list_children_indexes}"
   ]
  },
  {
   "cell_type": "code",
   "execution_count": 55,
   "metadata": {},
   "outputs": [],
   "source": [
    "# Create dataframe with correct types\n",
    "original_table = pd.DataFrame(data_dictionary)"
   ]
  },
  {
   "cell_type": "code",
   "execution_count": 56,
   "metadata": {},
   "outputs": [],
   "source": [
    "original_table[\"name\"] = original_table[\"name\"].astype(\"string\")"
   ]
  },
  {
   "cell_type": "code",
   "execution_count": 145,
   "metadata": {},
   "outputs": [],
   "source": [
    "original_table.sort_values(by=\"index\", inplace=True)"
   ]
  },
  {
   "cell_type": "code",
   "execution_count": 146,
   "metadata": {},
   "outputs": [
    {
     "data": {
      "text/html": [
       "<div>\n",
       "<style scoped>\n",
       "    .dataframe tbody tr th:only-of-type {\n",
       "        vertical-align: middle;\n",
       "    }\n",
       "\n",
       "    .dataframe tbody tr th {\n",
       "        vertical-align: top;\n",
       "    }\n",
       "\n",
       "    .dataframe thead th {\n",
       "        text-align: right;\n",
       "    }\n",
       "</style>\n",
       "<table border=\"1\" class=\"dataframe\">\n",
       "  <thead>\n",
       "    <tr style=\"text-align: right;\">\n",
       "      <th></th>\n",
       "      <th>name</th>\n",
       "      <th>depth</th>\n",
       "      <th>parent_depth</th>\n",
       "      <th>dist</th>\n",
       "      <th>children</th>\n",
       "      <th>index</th>\n",
       "      <th>children_indexes</th>\n",
       "      <th>time_cumsum</th>\n",
       "    </tr>\n",
       "  </thead>\n",
       "  <tbody>\n",
       "    <tr>\n",
       "      <th>0</th>\n",
       "      <td>D</td>\n",
       "      <td>2.0</td>\n",
       "      <td>1.0</td>\n",
       "      <td>1.0</td>\n",
       "      <td>[]</td>\n",
       "      <td>0</td>\n",
       "      <td>[]</td>\n",
       "      <td>1.0</td>\n",
       "    </tr>\n",
       "    <tr>\n",
       "      <th>1</th>\n",
       "      <td>F</td>\n",
       "      <td>2.0</td>\n",
       "      <td>1.0</td>\n",
       "      <td>1.0</td>\n",
       "      <td>[]</td>\n",
       "      <td>1</td>\n",
       "      <td>[]</td>\n",
       "      <td>2.0</td>\n",
       "    </tr>\n",
       "    <tr>\n",
       "      <th>3</th>\n",
       "      <td>B</td>\n",
       "      <td>2.0</td>\n",
       "      <td>1.0</td>\n",
       "      <td>1.0</td>\n",
       "      <td>[]</td>\n",
       "      <td>2</td>\n",
       "      <td>[]</td>\n",
       "      <td>4.0</td>\n",
       "    </tr>\n",
       "    <tr>\n",
       "      <th>4</th>\n",
       "      <td>H</td>\n",
       "      <td>2.0</td>\n",
       "      <td>1.0</td>\n",
       "      <td>1.0</td>\n",
       "      <td>[]</td>\n",
       "      <td>3</td>\n",
       "      <td>[]</td>\n",
       "      <td>5.0</td>\n",
       "    </tr>\n",
       "    <tr>\n",
       "      <th>2</th>\n",
       "      <td>E</td>\n",
       "      <td>1.0</td>\n",
       "      <td>0.0</td>\n",
       "      <td>1.0</td>\n",
       "      <td>[D, F]</td>\n",
       "      <td>4</td>\n",
       "      <td>[0, 1]</td>\n",
       "      <td>3.0</td>\n",
       "    </tr>\n",
       "    <tr>\n",
       "      <th>5</th>\n",
       "      <td>C</td>\n",
       "      <td>1.0</td>\n",
       "      <td>0.0</td>\n",
       "      <td>1.0</td>\n",
       "      <td>[B, H]</td>\n",
       "      <td>5</td>\n",
       "      <td>[2, 3]</td>\n",
       "      <td>6.0</td>\n",
       "    </tr>\n",
       "    <tr>\n",
       "      <th>6</th>\n",
       "      <td>G</td>\n",
       "      <td>0.0</td>\n",
       "      <td>0.0</td>\n",
       "      <td>0.0</td>\n",
       "      <td>[E, C]</td>\n",
       "      <td>6</td>\n",
       "      <td>[4, 5]</td>\n",
       "      <td>6.0</td>\n",
       "    </tr>\n",
       "  </tbody>\n",
       "</table>\n",
       "</div>"
      ],
      "text/plain": [
       "  name  depth  parent_depth  dist children  index children_indexes   \n",
       "0    D    2.0           1.0   1.0       []      0               []  \\\n",
       "1    F    2.0           1.0   1.0       []      1               []   \n",
       "3    B    2.0           1.0   1.0       []      2               []   \n",
       "4    H    2.0           1.0   1.0       []      3               []   \n",
       "2    E    1.0           0.0   1.0   [D, F]      4           [0, 1]   \n",
       "5    C    1.0           0.0   1.0   [B, H]      5           [2, 3]   \n",
       "6    G    0.0           0.0   0.0   [E, C]      6           [4, 5]   \n",
       "\n",
       "   time_cumsum  \n",
       "0          1.0  \n",
       "1          2.0  \n",
       "3          4.0  \n",
       "4          5.0  \n",
       "2          3.0  \n",
       "5          6.0  \n",
       "6          6.0  "
      ]
     },
     "execution_count": 146,
     "metadata": {},
     "output_type": "execute_result"
    }
   ],
   "source": [
    "original_table"
   ]
  },
  {
   "cell_type": "markdown",
   "metadata": {},
   "source": [
    "1. Créer la subdivision temporelle\n",
    "2. Mesurer la longueur des intervalles\n",
    "3. Créer un index des noeuds existants sur chaque subdivision"
   ]
  },
  {
   "cell_type": "code",
   "execution_count": 61,
   "metadata": {},
   "outputs": [],
   "source": [
    "def set_depths(tree_df):\n",
    "    print(\"Attention : la fonction set_depths peut compter deux fois le même intervalle du fait d'une erreur de calcul de Tree.get_distance\")\n",
    "    return sorted(list(set(tree_df[\"depth\"])))"
   ]
  },
  {
   "cell_type": "code",
   "execution_count": 63,
   "metadata": {},
   "outputs": [],
   "source": [
    "def create_subdivision(depths):\n",
    "    return [0] + [depths[i]-depths[i-1] for i in range(1,len(depths))]"
   ]
  },
  {
   "cell_type": "markdown",
   "metadata": {},
   "source": [
    "On doit créer une table de contemporanéité avec les subdivisions. Pour chaque indice de la subdivision, on enregistre l'ensemble des indices de noeuds contenus dans cette subdivision."
   ]
  },
  {
   "cell_type": "code",
   "execution_count": 73,
   "metadata": {},
   "outputs": [],
   "source": [
    "def is_contained(number, low, high, shift = 1e-3):\n",
    "    \"\"\"Si un noeud est de profondeur juste au dessus de la limite supérieure, cela signifie qu'il n'est pas vraiment contenu dans l'intervalle, mais dans l'intervalle du dessus.\"\"\"\n",
    "    return (number >= low + shift) and (number <= high + shift)"
   ]
  },
  {
   "cell_type": "code",
   "execution_count": 88,
   "metadata": {},
   "outputs": [
    {
     "name": "stdout",
     "output_type": "stream",
     "text": [
      "Attention : la fonction set_depths peut compter deux fois le même intervalle du fait d'une erreur de calcul de Tree.get_distance\n"
     ]
    }
   ],
   "source": [
    "depths = set_depths(original_table)\n",
    "subdivision = create_subdivision(depths)"
   ]
  },
  {
   "cell_type": "code",
   "execution_count": 85,
   "metadata": {},
   "outputs": [],
   "source": [
    "list_contemporaries = [[] for i in range(len(depths))]"
   ]
  },
  {
   "cell_type": "code",
   "execution_count": 86,
   "metadata": {},
   "outputs": [],
   "source": [
    "for depth in range(len(depths)-1):\n",
    "    \"\"\"Si un noeud est de profondeur comprise entre depths[depth] et depths[depth+1], il recouvre l'intervalle d'indice depth.\n",
    "    Exemple : on a des profondeurs 0, 1, 2, 3\n",
    "    Alors les intervalles sont 0, 1, 1, 1 en ajoutant l'intervalle nul de la racine. \n",
    "    Un noeud de profondeur 1 est contenu entre les profondeurs 0 et 1, mais pas entre les profondeurs 1 et 2 grâce au shift de la fonction is_contained.\n",
    "    Il recouvre donc l'intervalle d'indice 1, qui est de longueur 1\n",
    "    \n",
    "    Un noeud de profondeur 3 est contenu entre les profondeurs 2 et 3, donc il recouvre l'intervalle d'indice 3, qui est de longueur 1.\n",
    "\n",
    "    On ignore le noeud de profondeur 0, qui est la racine, c'est pourquoi on peut itérer sur len(depths)-1 valeurs.\n",
    "\n",
    "    Ainsi, la liste de contemporains ne contient pas l'indice de la racine.\n",
    "    \"\"\"\n",
    "\n",
    "\n",
    "    for index, row in original_table.iterrows():\n",
    "        if is_contained(row[\"depth\"], depths[depth], depths[depth+1]):\n",
    "            list_contemporaries[depth+1].append(row[\"index\"])"
   ]
  },
  {
   "cell_type": "code",
   "execution_count": 87,
   "metadata": {},
   "outputs": [
    {
     "data": {
      "text/plain": [
       "[[], [4, 5], [0, 1, 2, 3]]"
      ]
     },
     "execution_count": 87,
     "metadata": {},
     "output_type": "execute_result"
    }
   ],
   "source": [
    "list_contemporaries"
   ]
  },
  {
   "cell_type": "code",
   "execution_count": 89,
   "metadata": {},
   "outputs": [],
   "source": [
    "contemporaneity_df = pd.DataFrame({\"subdivision\":subdivision, \"contemporaries\":list_contemporaries})"
   ]
  },
  {
   "cell_type": "code",
   "execution_count": 93,
   "metadata": {},
   "outputs": [],
   "source": [
    "contemporaneity_df[\"nb_contemporaries\"] = contemporaneity_df[\"contemporaries\"].apply(lambda x : len(x))"
   ]
  },
  {
   "cell_type": "code",
   "execution_count": 95,
   "metadata": {},
   "outputs": [],
   "source": [
    "contemporaneity_df[\"length_prod\"] = contemporaneity_df[\"subdivision\"] * contemporaneity_df[\"nb_contemporaries\"]"
   ]
  },
  {
   "cell_type": "code",
   "execution_count": 97,
   "metadata": {},
   "outputs": [],
   "source": [
    "contemporaneity_df[\"normalized_prob\"] = contemporaneity_df[\"length_prod\"] / contemporaneity_df[\"length_prod\"].sum()"
   ]
  },
  {
   "cell_type": "code",
   "execution_count": 99,
   "metadata": {},
   "outputs": [],
   "source": [
    "contemporaneity_df[\"prob_cumsum\"] = contemporaneity_df[\"normalized_prob\"].cumsum()"
   ]
  },
  {
   "cell_type": "code",
   "execution_count": 109,
   "metadata": {},
   "outputs": [
    {
     "data": {
      "text/html": [
       "<div>\n",
       "<style scoped>\n",
       "    .dataframe tbody tr th:only-of-type {\n",
       "        vertical-align: middle;\n",
       "    }\n",
       "\n",
       "    .dataframe tbody tr th {\n",
       "        vertical-align: top;\n",
       "    }\n",
       "\n",
       "    .dataframe thead th {\n",
       "        text-align: right;\n",
       "    }\n",
       "</style>\n",
       "<table border=\"1\" class=\"dataframe\">\n",
       "  <thead>\n",
       "    <tr style=\"text-align: right;\">\n",
       "      <th></th>\n",
       "      <th>subdivision</th>\n",
       "      <th>contemporaries</th>\n",
       "      <th>nb_contemporaries</th>\n",
       "      <th>length_prod</th>\n",
       "      <th>normalized_prob</th>\n",
       "      <th>prob_cumsum</th>\n",
       "    </tr>\n",
       "  </thead>\n",
       "  <tbody>\n",
       "    <tr>\n",
       "      <th>0</th>\n",
       "      <td>0.0</td>\n",
       "      <td>[]</td>\n",
       "      <td>0</td>\n",
       "      <td>0.0</td>\n",
       "      <td>0.000000</td>\n",
       "      <td>0.000000</td>\n",
       "    </tr>\n",
       "    <tr>\n",
       "      <th>1</th>\n",
       "      <td>1.0</td>\n",
       "      <td>[4, 5]</td>\n",
       "      <td>2</td>\n",
       "      <td>2.0</td>\n",
       "      <td>0.333333</td>\n",
       "      <td>0.333333</td>\n",
       "    </tr>\n",
       "    <tr>\n",
       "      <th>2</th>\n",
       "      <td>1.0</td>\n",
       "      <td>[0, 1, 2, 3]</td>\n",
       "      <td>4</td>\n",
       "      <td>4.0</td>\n",
       "      <td>0.666667</td>\n",
       "      <td>1.000000</td>\n",
       "    </tr>\n",
       "  </tbody>\n",
       "</table>\n",
       "</div>"
      ],
      "text/plain": [
       "   subdivision contemporaries  nb_contemporaries  length_prod   \n",
       "0          0.0             []                  0          0.0  \\\n",
       "1          1.0         [4, 5]                  2          2.0   \n",
       "2          1.0   [0, 1, 2, 3]                  4          4.0   \n",
       "\n",
       "   normalized_prob  prob_cumsum  \n",
       "0         0.000000     0.000000  \n",
       "1         0.333333     0.333333  \n",
       "2         0.666667     1.000000  "
      ]
     },
     "execution_count": 109,
     "metadata": {},
     "output_type": "execute_result"
    }
   ],
   "source": [
    "contemporaneity_df"
   ]
  },
  {
   "cell_type": "code",
   "execution_count": 112,
   "metadata": {},
   "outputs": [
    {
     "data": {
      "text/html": [
       "<div>\n",
       "<style scoped>\n",
       "    .dataframe tbody tr th:only-of-type {\n",
       "        vertical-align: middle;\n",
       "    }\n",
       "\n",
       "    .dataframe tbody tr th {\n",
       "        vertical-align: top;\n",
       "    }\n",
       "\n",
       "    .dataframe thead th {\n",
       "        text-align: right;\n",
       "    }\n",
       "</style>\n",
       "<table border=\"1\" class=\"dataframe\">\n",
       "  <thead>\n",
       "    <tr style=\"text-align: right;\">\n",
       "      <th></th>\n",
       "      <th>name</th>\n",
       "      <th>depth</th>\n",
       "      <th>parent_depth</th>\n",
       "      <th>dist</th>\n",
       "      <th>children</th>\n",
       "      <th>index</th>\n",
       "      <th>children_indexes</th>\n",
       "    </tr>\n",
       "  </thead>\n",
       "  <tbody>\n",
       "    <tr>\n",
       "      <th>0</th>\n",
       "      <td>D</td>\n",
       "      <td>2.0</td>\n",
       "      <td>1.0</td>\n",
       "      <td>1.0</td>\n",
       "      <td>[]</td>\n",
       "      <td>0</td>\n",
       "      <td>[]</td>\n",
       "    </tr>\n",
       "    <tr>\n",
       "      <th>1</th>\n",
       "      <td>F</td>\n",
       "      <td>2.0</td>\n",
       "      <td>1.0</td>\n",
       "      <td>1.0</td>\n",
       "      <td>[]</td>\n",
       "      <td>1</td>\n",
       "      <td>[]</td>\n",
       "    </tr>\n",
       "    <tr>\n",
       "      <th>2</th>\n",
       "      <td>E</td>\n",
       "      <td>1.0</td>\n",
       "      <td>0.0</td>\n",
       "      <td>1.0</td>\n",
       "      <td>[D, F]</td>\n",
       "      <td>4</td>\n",
       "      <td>[0, 1]</td>\n",
       "    </tr>\n",
       "    <tr>\n",
       "      <th>3</th>\n",
       "      <td>B</td>\n",
       "      <td>2.0</td>\n",
       "      <td>1.0</td>\n",
       "      <td>1.0</td>\n",
       "      <td>[]</td>\n",
       "      <td>2</td>\n",
       "      <td>[]</td>\n",
       "    </tr>\n",
       "    <tr>\n",
       "      <th>4</th>\n",
       "      <td>H</td>\n",
       "      <td>2.0</td>\n",
       "      <td>1.0</td>\n",
       "      <td>1.0</td>\n",
       "      <td>[]</td>\n",
       "      <td>3</td>\n",
       "      <td>[]</td>\n",
       "    </tr>\n",
       "    <tr>\n",
       "      <th>5</th>\n",
       "      <td>C</td>\n",
       "      <td>1.0</td>\n",
       "      <td>0.0</td>\n",
       "      <td>1.0</td>\n",
       "      <td>[B, H]</td>\n",
       "      <td>5</td>\n",
       "      <td>[2, 3]</td>\n",
       "    </tr>\n",
       "    <tr>\n",
       "      <th>6</th>\n",
       "      <td>G</td>\n",
       "      <td>0.0</td>\n",
       "      <td>0.0</td>\n",
       "      <td>0.0</td>\n",
       "      <td>[E, C]</td>\n",
       "      <td>6</td>\n",
       "      <td>[4, 5]</td>\n",
       "    </tr>\n",
       "  </tbody>\n",
       "</table>\n",
       "</div>"
      ],
      "text/plain": [
       "  name  depth  parent_depth  dist children  index children_indexes\n",
       "0    D    2.0           1.0   1.0       []      0               []\n",
       "1    F    2.0           1.0   1.0       []      1               []\n",
       "2    E    1.0           0.0   1.0   [D, F]      4           [0, 1]\n",
       "3    B    2.0           1.0   1.0       []      2               []\n",
       "4    H    2.0           1.0   1.0       []      3               []\n",
       "5    C    1.0           0.0   1.0   [B, H]      5           [2, 3]\n",
       "6    G    0.0           0.0   0.0   [E, C]      6           [4, 5]"
      ]
     },
     "execution_count": 112,
     "metadata": {},
     "output_type": "execute_result"
    }
   ],
   "source": [
    "original_table"
   ]
  },
  {
   "cell_type": "markdown",
   "metadata": {},
   "source": [
    "Pour choisir les temps de don, on peut faire une cumsum des longueurs de branches, et choisir ainsi les temps de don"
   ]
  },
  {
   "cell_type": "code",
   "execution_count": 113,
   "metadata": {},
   "outputs": [],
   "source": [
    "original_table[\"time_cumsum\"] = original_table[\"dist\"].cumsum()"
   ]
  },
  {
   "cell_type": "code",
   "execution_count": 115,
   "metadata": {},
   "outputs": [],
   "source": [
    "original_table # Exclure la racine comme donneur potentiel ? Non ! Il faut juste mettre la racine en première, mais sa présence est importante pour choisir le temps de don"
   ]
  },
  {
   "cell_type": "code",
   "execution_count": 130,
   "metadata": {},
   "outputs": [],
   "source": [
    "index_of_depth_zero = original_table[original_table[\"depth\"] == 0].index[0]\n",
    "concat_df = pd.concat([original_table.iloc[[index_of_depth_zero]], original_table.drop(index_of_depth_zero)]).reset_index(drop=True)\n"
   ]
  },
  {
   "cell_type": "code",
   "execution_count": 132,
   "metadata": {},
   "outputs": [],
   "source": [
    "concat_df[\"time_cumsum\"] = concat_df[\"dist\"].cumsum()"
   ]
  },
  {
   "cell_type": "code",
   "execution_count": 133,
   "metadata": {},
   "outputs": [
    {
     "data": {
      "text/html": [
       "<div>\n",
       "<style scoped>\n",
       "    .dataframe tbody tr th:only-of-type {\n",
       "        vertical-align: middle;\n",
       "    }\n",
       "\n",
       "    .dataframe tbody tr th {\n",
       "        vertical-align: top;\n",
       "    }\n",
       "\n",
       "    .dataframe thead th {\n",
       "        text-align: right;\n",
       "    }\n",
       "</style>\n",
       "<table border=\"1\" class=\"dataframe\">\n",
       "  <thead>\n",
       "    <tr style=\"text-align: right;\">\n",
       "      <th></th>\n",
       "      <th>name</th>\n",
       "      <th>depth</th>\n",
       "      <th>parent_depth</th>\n",
       "      <th>dist</th>\n",
       "      <th>children</th>\n",
       "      <th>index</th>\n",
       "      <th>children_indexes</th>\n",
       "      <th>time_cumsum</th>\n",
       "    </tr>\n",
       "  </thead>\n",
       "  <tbody>\n",
       "    <tr>\n",
       "      <th>0</th>\n",
       "      <td>G</td>\n",
       "      <td>0.0</td>\n",
       "      <td>0.0</td>\n",
       "      <td>0.0</td>\n",
       "      <td>[E, C]</td>\n",
       "      <td>6</td>\n",
       "      <td>[4, 5]</td>\n",
       "      <td>0.0</td>\n",
       "    </tr>\n",
       "    <tr>\n",
       "      <th>1</th>\n",
       "      <td>D</td>\n",
       "      <td>2.0</td>\n",
       "      <td>1.0</td>\n",
       "      <td>1.0</td>\n",
       "      <td>[]</td>\n",
       "      <td>0</td>\n",
       "      <td>[]</td>\n",
       "      <td>1.0</td>\n",
       "    </tr>\n",
       "    <tr>\n",
       "      <th>2</th>\n",
       "      <td>F</td>\n",
       "      <td>2.0</td>\n",
       "      <td>1.0</td>\n",
       "      <td>1.0</td>\n",
       "      <td>[]</td>\n",
       "      <td>1</td>\n",
       "      <td>[]</td>\n",
       "      <td>2.0</td>\n",
       "    </tr>\n",
       "    <tr>\n",
       "      <th>3</th>\n",
       "      <td>E</td>\n",
       "      <td>1.0</td>\n",
       "      <td>0.0</td>\n",
       "      <td>1.0</td>\n",
       "      <td>[D, F]</td>\n",
       "      <td>4</td>\n",
       "      <td>[0, 1]</td>\n",
       "      <td>3.0</td>\n",
       "    </tr>\n",
       "    <tr>\n",
       "      <th>4</th>\n",
       "      <td>B</td>\n",
       "      <td>2.0</td>\n",
       "      <td>1.0</td>\n",
       "      <td>1.0</td>\n",
       "      <td>[]</td>\n",
       "      <td>2</td>\n",
       "      <td>[]</td>\n",
       "      <td>4.0</td>\n",
       "    </tr>\n",
       "    <tr>\n",
       "      <th>5</th>\n",
       "      <td>H</td>\n",
       "      <td>2.0</td>\n",
       "      <td>1.0</td>\n",
       "      <td>1.0</td>\n",
       "      <td>[]</td>\n",
       "      <td>3</td>\n",
       "      <td>[]</td>\n",
       "      <td>5.0</td>\n",
       "    </tr>\n",
       "    <tr>\n",
       "      <th>6</th>\n",
       "      <td>C</td>\n",
       "      <td>1.0</td>\n",
       "      <td>0.0</td>\n",
       "      <td>1.0</td>\n",
       "      <td>[B, H]</td>\n",
       "      <td>5</td>\n",
       "      <td>[2, 3]</td>\n",
       "      <td>6.0</td>\n",
       "    </tr>\n",
       "  </tbody>\n",
       "</table>\n",
       "</div>"
      ],
      "text/plain": [
       "  name  depth  parent_depth  dist children  index children_indexes   \n",
       "0    G    0.0           0.0   0.0   [E, C]      6           [4, 5]  \\\n",
       "1    D    2.0           1.0   1.0       []      0               []   \n",
       "2    F    2.0           1.0   1.0       []      1               []   \n",
       "3    E    1.0           0.0   1.0   [D, F]      4           [0, 1]   \n",
       "4    B    2.0           1.0   1.0       []      2               []   \n",
       "5    H    2.0           1.0   1.0       []      3               []   \n",
       "6    C    1.0           0.0   1.0   [B, H]      5           [2, 3]   \n",
       "\n",
       "   time_cumsum  \n",
       "0          0.0  \n",
       "1          1.0  \n",
       "2          2.0  \n",
       "3          3.0  \n",
       "4          4.0  \n",
       "5          5.0  \n",
       "6          6.0  "
      ]
     },
     "execution_count": 133,
     "metadata": {},
     "output_type": "execute_result"
    }
   ],
   "source": [
    "concat_df"
   ]
  },
  {
   "cell_type": "code",
   "execution_count": 140,
   "metadata": {},
   "outputs": [],
   "source": [
    "random_number = np.random.uniform(0, 6)\n",
    "\n",
    "# Find the index of the row with the smallest cumulative sum greater than the random number\n",
    "donor = concat_df[concat_df[\"time_cumsum\"] > random_number].min()"
   ]
  },
  {
   "cell_type": "code",
   "execution_count": 143,
   "metadata": {},
   "outputs": [
    {
     "data": {
      "text/plain": [
       "3"
      ]
     },
     "execution_count": 143,
     "metadata": {},
     "output_type": "execute_result"
    }
   ],
   "source": [
    "concat_df[concat_df[\"time_cumsum\"] > random_number][\"time_cumsum\"].idxmin()"
   ]
  },
  {
   "cell_type": "markdown",
   "metadata": {},
   "source": [
    "Pour pouvoir choisir aléatoirement un point de départ de chaque noeud"
   ]
  },
  {
   "cell_type": "code",
   "execution_count": null,
   "metadata": {},
   "outputs": [],
   "source": [
    "rust_table = original_table[\"index\", \"depth\", \"parent_depth\", \"children_indexes\"]"
   ]
  }
 ],
 "metadata": {
  "kernelspec": {
   "display_name": "Python 3",
   "language": "python",
   "name": "python3"
  },
  "language_info": {
   "codemirror_mode": {
    "name": "ipython",
    "version": 3
   },
   "file_extension": ".py",
   "mimetype": "text/x-python",
   "name": "python",
   "nbconvert_exporter": "python",
   "pygments_lexer": "ipython3",
   "version": "3.11.4"
  },
  "orig_nbformat": 4
 },
 "nbformat": 4,
 "nbformat_minor": 2
}
